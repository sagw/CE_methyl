{
 "cells": [
  {
   "cell_type": "code",
   "execution_count": null,
   "metadata": {},
   "outputs": [],
   "source": [
    "# /bin/sh\n",
    "# ----------------Parameters---------------------- #\n",
    "#$ -S /bin/sh\n",
    "#$ -pe mthread 15\n",
    "#$ -q sThC.q\n",
    "#$ -l mres=120G,h_data=8G,h_vmem=8G\n",
    "#$ -cwd\n",
    "#$ -j y\n",
    "#$ -N index_oyster\n",
    "#$ -o index_oyster.log\n",
    "#$ -M gignoux-wolfsohns@si.edu\n",
    "#\n",
    "# ----------------Modules------------------------- #\n",
    "module load bioinformatics/bowtie2\n",
    "#\n",
    "# ----------------Your Commands------------------- #\n",
    "#\n",
    "echo + `date` job $JOB_NAME started in $QUEUE with jobID=$JOB_ID on $HOSTNAME\n",
    "echo + NSLOTS = $NSLOTS\n",
    "#\n",
    "bowtie2-build GCA_002022765.4_C_virginica-3.0_genomic.fna C_virginica-3.0_genomic.fna_index --threads 15\n",
    "#\n",
    "echo = `date` job $JOB_NAME done"
   ]
  },
  {
   "cell_type": "code",
   "execution_count": null,
   "metadata": {},
   "outputs": [],
   "source": [
    "ls | sed 's/[^-]*$//'"
   ]
  },
  {
   "cell_type": "code",
   "execution_count": null,
   "metadata": {},
   "outputs": [],
   "source": [
    "# /bin/sh \n",
    "# ----------------Parameters---------------------- #\n",
    "#$  -S /bin/sh\n",
    "#$ -pe mthread 12\n",
    "#$ -q mThC.q\n",
    "#$ -l mres=72G,h_data=6G,h_vmem=6G\n",
    "#$ -cwd\n",
    "#$ -j y\n",
    "#$ -N trim_ce\n",
    "#$ -o trim_ce.log\n",
    "#$ -m bea\n",
    "#$ -M gignoux-wolfsohns@si.edu\n",
    "#\n",
    "# ----------------Modules------------------------- #\n",
    "module load bioinformatics/trim_galore\n",
    "#\n",
    "# ----------------Your Commands------------------- #\n",
    "#\n",
    "echo + `date` job $JOB_NAME started in $QUEUE with jobID=$JOB_ID on $HOSTNAME\n",
    "echo + NSLOTS = $NSLOTS\n",
    "#\n",
    "for f in $(ls | sed 's/[^-]*$//'); \n",
    "do \n",
    "    trim_galore -q 20 --phred33 --fastqc --illumina --length 20 --paired \"$f\"CV_R1_001.fastq \"$f\"CV_R2_001.fastq;\n",
    "done\n",
    "\n",
    "#\n",
    "echo = `date` job $JOB_NAME done"
   ]
  }
 ],
 "metadata": {
  "kernelspec": {
   "display_name": "Python 3",
   "language": "python",
   "name": "python3"
  },
  "language_info": {
   "codemirror_mode": {
    "name": "ipython",
    "version": 3
   },
   "file_extension": ".py",
   "mimetype": "text/x-python",
   "name": "python",
   "nbconvert_exporter": "python",
   "pygments_lexer": "ipython3",
   "version": "3.8.3"
  }
 },
 "nbformat": 4,
 "nbformat_minor": 4
}
