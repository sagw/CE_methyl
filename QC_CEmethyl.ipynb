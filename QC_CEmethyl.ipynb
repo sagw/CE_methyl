{
 "cells": [
  {
   "cell_type": "code",
   "execution_count": null,
   "metadata": {},
   "outputs": [],
   "source": [
    "\n",
    "\n",
    "refseq version: https://ftp.ncbi.nlm.nih.gov/genomes/all/GCF/002/022/765/GCF_002022765.2_C_virginica-3.0/"
   ]
  },
  {
   "cell_type": "code",
   "execution_count": null,
   "metadata": {},
   "outputs": [],
   "source": [
    "# /bin/sh\n",
    "# ----------------Parameters---------------------- #\n",
    "#$ -S /bin/sh\n",
    "#$ -pe mthread 15\n",
    "#$ -q sThC.q\n",
    "#$ -l mres=120G,h_data=8G,h_vmem=8G\n",
    "#$ -cwd\n",
    "#$ -j y\n",
    "#$ -N index_oyster\n",
    "#$ -o index_oyster.log\n",
    "#$ -M gignoux-wolfsohns@si.edu\n",
    "#\n",
    "# ----------------Modules------------------------- #\n",
    "module load bioinformatics/bowtie2\n",
    "#\n",
    "# ----------------Your Commands------------------- #\n",
    "#\n",
    "echo + `date` job $JOB_NAME started in $QUEUE with jobID=$JOB_ID on $HOSTNAME\n",
    "echo + NSLOTS = $NSLOTS\n",
    "#\n",
    "bowtie2-build GCA_002022765.4_C_virginica-3.0_genomic.fna C_virginica-3.0_genomic.fna_index --threads 15\n",
    "#\n",
    "echo = `date` job $JOB_NAME done"
   ]
  },
  {
   "cell_type": "code",
   "execution_count": null,
   "metadata": {},
   "outputs": [],
   "source": [
    "| sed 's/[^-]*$//'"
   ]
  },
  {
   "cell_type": "code",
   "execution_count": null,
   "metadata": {},
   "outputs": [],
   "source": [
    "# /bin/sh \n",
    "# ----------------Parameters---------------------- #\n",
    "#$  -S /bin/sh\n",
    "#$ -pe mthread 12\n",
    "#$ -q mThC.q\n",
    "#$ -l mres=72G,h_data=6G,h_vmem=6G\n",
    "#$ -cwd\n",
    "#$ -j y\n",
    "#$ -N trim_ce\n",
    "#$ -o trim_ce.log\n",
    "#$ -m bea\n",
    "#$ -M gignoux-wolfsohns@si.edu\n",
    "#\n",
    "# ----------------Modules------------------------- #\n",
    "module load bioinformatics/trim_galore\n",
    "#\n",
    "# ----------------Your Commands------------------- #\n",
    "#\n",
    "echo + `date` job $JOB_NAME started in $QUEUE with jobID=$JOB_ID on $HOSTNAME\n",
    "echo + NSLOTS = $NSLOTS\n",
    "#\n",
    "for f in $(ls | sed 's/[^-]*$//'); \n",
    "do \n",
    "    trim_galore -q 20 --phred33 --fastqc --illumina --length 20 --paired \"$f\"CV_R1_001.fastq \"$f\"CV_R2_001.fastq;\n",
    "done\n",
    "\n",
    "#\n",
    "echo = `date` job $JOB_NAME done"
   ]
  },
  {
   "cell_type": "markdown",
   "metadata": {},
   "source": [
    "Ok, so groves had these degenerate bases but we dont have that, and our adapters were already removed since they are just the standard illumina adapters. So I think just go straight to mapping adn then use picard tools to remove duplicates on bam files? "
   ]
  },
  {
   "cell_type": "code",
   "execution_count": null,
   "metadata": {},
   "outputs": [],
   "source": [
    "# /bin/sh\n",
    "# ----------------Parameters---------------------- #\n",
    "#$ -S /bin/sh\n",
    "#$ -pe mthread 12\n",
    "#$ -q mThC.q\n",
    "#$ -l mres=72G,h_data=6G,h_vmem=6G\n",
    "#$ -cwd\n",
    "#$ -j y\n",
    "#$ -N map_CE\n",
    "#$ -o map_CE.log\n",
    "#$ -m bea\n",
    "#$ -M gignoux-wolfsohns@si.edu\n",
    "#\n",
    "# ----------------Modules------------------------- #\n",
    "module load bioinformatics/bowtie2\n",
    "#\n",
    "# ----------------Your Commands------------------- #\n",
    "#\n",
    "echo + `date` job $JOB_NAME started in $QUEUE with jobID=$JOB_ID on $HOSTNAME\n",
    "echo + NSLOTS = $NSLOTS\n",
    "#\n",
    "\n",
    "\n",
    "for f in $(ls | sed 's/[^-]*$//'); \n",
    "do \n",
    "\n",
    "bowtie2 --very-sensitive --local -x /pool/genomics/gignoux-wolfsohns/Reference_genomes/cvirginica_refseq/GCF_002022765.2_C_virginica-3.0_genomic_index -1 /pool/genomics/gignoux-wolfsohns/CE_MR/trimmed_seqs/trimmed_fastq/\"$f\"CV_R1_001_val_1.fq -2 /pool/genomics/gignoux-wolfsohns/CE_MR/trimmed_seqs/trimmed_fastq/\"$f\"CV_R2_001_val_2.fq -p 12 -S /pool/genomics/gignoux-wolfsohns/CE_MR/mapped_sam/\"$f\".sam; \n",
    "\n",
    "done\n",
    "\n",
    "#\n",
    "echo = `date` job $JOB_NAME done\n"
   ]
  },
  {
   "cell_type": "markdown",
   "metadata": {},
   "source": [
    "Trying with --very-sensitive --local, should give higher mapping percentages. \n",
    "+ Fri Dec 17 17:46:49 EST 2021 job map_CE_vsl started in mThC.q with jobID=1727340 on compute-43-22\n",
    "+ NSLOTS = 12\n",
    "90.96% overall alignment rate\n",
    "90.96% overall alignment rate\n",
    "89.81% overall alignment rate\n",
    "89.81% overall alignment rate\n",
    "90.43% overall alignment rate\n",
    "90.43% overall alignment rate\n",
    "90.38% overall alignment rate\n",
    "90.38% overall alignment rate\n",
    "90.05% overall alignment rate\n",
    "90.05% overall alignment rate\n",
    "89.81% overall alignment rate\n",
    "89.81% overall alignment rate\n",
    "90.56% overall alignment rate\n",
    "90.56% overall alignment rate\n",
    "90.42% overall alignment rate\n",
    "90.42% overall alignment rate\n",
    "91.91% overall alignment rate\n",
    "91.91% overall alignment rate\n",
    "85.87% overall alignment rate\n",
    "85.87% overall alignment rate\n",
    "88.27% overall alignment rate\n",
    "88.27% overall alignment rate\n",
    "90.20% overall alignment rate\n",
    "90.20% overall alignment rate\n",
    "91.47% overall alignment rate\n",
    "91.47% overall alignment rate\n",
    "90.89% overall alignment rate\n",
    "90.89% overall alignment rate\n",
    "90.78% overall alignment rate\n",
    "90.78% overall alignment rate\n",
    "89.78% overall alignment rate\n",
    "89.78% overall alignment rate\n",
    "86.83% overall alignment rate\n",
    "86.83% overall alignment rate\n",
    "89.04% overall alignment rate\n",
    "89.04% overall alignment rate\n",
    "89.27% overall alignment rate\n",
    "89.27% overall alignment rate\n",
    "75.95% overall alignment rate\n",
    "75.95% overall alignment rate\n",
    "87.45% overall alignment rate\n",
    "87.45% overall alignment rate\n",
    "89.95% overall alignment rate\n",
    "89.95% overall alignment rate\n",
    "85.63% overall alignment rate\n",
    "85.63% overall alignment rate\n",
    "86.13% overall alignment rate\n",
    "86.13% overall alignment rate\n",
    "89.49% overall alignment rate\n",
    "89.49% overall alignment rate\n",
    "87.43% overall alignment rate\n",
    "87.43% overall alignment rate\n",
    "89.07% overall alignment rate\n",
    "89.07% overall alignment rate\n",
    "88.73% overall alignment rate\n",
    "88.73% overall alignment rate\n",
    "88.70% overall alignment rate\n",
    "88.70% overall alignment rate\n",
    "81.82% overall alignment rate\n",
    "81.82% overall alignment rate"
   ]
  },
  {
   "cell_type": "code",
   "execution_count": null,
   "metadata": {},
   "outputs": [],
   "source": []
  },
  {
   "cell_type": "code",
   "execution_count": null,
   "metadata": {},
   "outputs": [],
   "source": [
    "# /bin/sh\n",
    "# ----------------Parameters---------------------- #\n",
    "#$ -S /bin/sh\n",
    "#$ -q mThC.q\n",
    "#$ -l mres=8G,h_data=8G,h_vmem=8G\n",
    "#$ -cwd\n",
    "#$ -j y\n",
    "#$ -N sam2bamCE\n",
    "#$ -o sam2bamCE.log\n",
    "#\n",
    "# ----------------Modules------------------------- #\n",
    "module load bioinformatics/samtools\n",
    "#\n",
    "# ----------------Your Commands------------------- #\n",
    "#\n",
    "echo + `date` job $JOB_NAME started in $QUEUE with jobID=$JOB_ID on $HOSTNAME\n",
    "#\n",
    "\n",
    "for f in $(ls | sed 's/[^-]*$//'); \n",
    "do \n",
    "samtools view -b \"$f\".sam > /pool/genomics/gignoux-wolfsohns/CE_MR/mapped_bam/\"$f\".bam;\n",
    "done\n",
    "#\n",
    "echo = `date` job $JOB_NAME done"
   ]
  },
  {
   "cell_type": "code",
   "execution_count": null,
   "metadata": {},
   "outputs": [],
   "source": [
    "# /bin/sh\n",
    "# ----------------Parameters---------------------- #\n",
    "#$ -S /bin/sh\n",
    "#$ -q mThC.q\n",
    "#$ -l mres=6G,h_data=6G,h_vmem=6G\n",
    "#$ -cwd\n",
    "#$ -j y\n",
    "#$ -N sortCE\n",
    "#$ -o sortCE.log\n",
    "#$ -m bea\n",
    "#$ -M gignoux-wolfsohns@si.edu\n",
    "#\n",
    "# ----------------Modules------------------------- #\n",
    "module load bioinformatics/samtools\n",
    "#\n",
    "# ----------------Your Commands------------------- #\n",
    "#\n",
    "echo + `date` job $JOB_NAME started in $QUEUE with jobID=$JOB_ID on $HOSTNAME\n",
    "#\n",
    "for f in $(ls | sed 's/[^-]*$//'); \n",
    "do \n",
    "samtools sort \"$f\".bam -o sorted_bam/\"$f\"_sorted.bam;\n",
    "done\n",
    "#\n",
    "echo = `date` job $JOB_NAME done"
   ]
  },
  {
   "cell_type": "code",
   "execution_count": null,
   "metadata": {},
   "outputs": [],
   "source": [
    "# /bin/sh\n",
    "# ----------------Parameters---------------------- #\n",
    "#$ -S /bin/sh\n",
    "#$ -q sThC.q\n",
    "#$ -l mres=8G,h_data=8G,h_vmem=8G\n",
    "#$ -cwd\n",
    "#$ -j y\n",
    "#$ -N Dup_CE\n",
    "#$ -o Dup_CE.log\n",
    "#\n",
    "# ----------------Modules------------------------- #\n",
    "module load bioinformatics/picard-tools\n",
    "#\n",
    "# ----------------Your Commands------------------- #\n",
    "#\n",
    "echo + `date` job $JOB_NAME started in $QUEUE with jobID=$JOB_ID on $HOSTNAME\n",
    "#\n",
    "for f in $(ls | sed 's/[^-]*$//'); \n",
    "do \n",
    "runpicard MarkDuplicates \\\n",
    "      I=\"$f\".bam \\\n",
    "      O=\"$f\"marked_duplicates.bam \\\n",
    "      M=\"$f\"marked_dup_metrics.txt;\n",
    "done\n",
    "#\n",
    "echo = `date` job $JOB_NAME done"
   ]
  },
  {
   "cell_type": "markdown",
   "metadata": {},
   "source": [
    "Note: need to verify that this is the best genome to use, its most up to date on genbank but apparently the genbank version is missing the mitochondrial dna. \n",
    "\n",
    "https://ftp.ncbi.nlm.nih.gov/genomes/all/annotation_releases/6565/100/GCF_002022765.2_C_virginica-3.0/\n",
    "\n",
    "which might not really mattter for our purposes. Going to proceed for preliminary data for now, but go back before final analyses. Also in one of the papers out of morgan kellys group that i cant find right now they used a haplotig filtered version that doesnt seem to exist on jon puritz's github anymore, so look into that"
   ]
  },
  {
   "cell_type": "markdown",
   "metadata": {},
   "source": [
    "Not sure that we actually want to remove duplicates. Now that I've marked them going to proceed, can go back and see if removing all or just optical duplicates changes the results later."
   ]
  },
  {
   "cell_type": "code",
   "execution_count": 1,
   "metadata": {},
   "outputs": [
    {
     "name": "stdout",
     "output_type": "stream",
     "text": [
      "ls: *-marked_duplicates.bam: No such file or directory\r\n"
     ]
    }
   ],
   "source": [
    "ls *-marked_duplicates.bam"
   ]
  },
  {
   "cell_type": "code",
   "execution_count": null,
   "metadata": {},
   "outputs": [],
   "source": [
    "# /bin/sh\n",
    "# ----------------Parameters---------------------- #\n",
    "#$ -S /bin/sh\n",
    "#$ -q sThC.q\n",
    "#$ -l mres=8G,h_data=8G,h_vmem=8G\n",
    "#$ -cwd\n",
    "#$ -N CV_count\n",
    "#$ -o CV_count.log\n",
    "#$ -m bea\n",
    "#$ -M gignoux-wolfsohns@si.edu\n",
    "#\n",
    "# ----------------Modules------------------------- #\n",
    "module load ~/modulefiles/miniconda\n",
    "source activate htseq_env\n",
    "# ----------------Your Commands------------------- #\n",
    "#\n",
    "echo + `date` job $JOB_NAME started in $QUEUE with jobID=$JOB_ID on $HOSTNAME\n",
    "#\n",
    "for f in $(ls *_sorted.bam); \n",
    "do \n",
    "htseq-count -f bam \"$f\" /pool/genomics/gignoux-wolfsohns/Reference_genomes/cvirginica_genome/GCF_002022765.2_C_virginica-3.0_genomic.gtf;\n",
    "done\n",
    "#\n",
    "echo = `date` job $JOB_NAME done\n"
   ]
  },
  {
   "cell_type": "markdown",
   "metadata": {},
   "source": [
    "seems way too slow, try bedtools multicov thats what groves used"
   ]
  },
  {
   "cell_type": "code",
   "execution_count": null,
   "metadata": {},
   "outputs": [],
   "source": [
    "#convert to bed. although maybe unnecessary?\n",
    "gff2bed <GCF_002022765.2_C_virginica-3.0_genomic.gff> GCF_002022765.2_C_virginica-3.0_genomic.bed"
   ]
  },
  {
   "cell_type": "code",
   "execution_count": null,
   "metadata": {},
   "outputs": [],
   "source": [
    "bedtools multicov -bams *.bam -bed GCF_002022765.2_C_virginica-3.0_genomic.bed"
   ]
  },
  {
   "cell_type": "code",
   "execution_count": null,
   "metadata": {},
   "outputs": [],
   "source": [
    "# /bin/sh\n",
    "# ----------------Parameters---------------------- #\n",
    "#$ -S /bin/sh\n",
    "#$ -q mThC.q\n",
    "#$ -l mres=8G,h_data=8G,h_vmem=8G\n",
    "#$ -cwd\n",
    "#$ -j y\n",
    "#$ -N index_CV\n",
    "#$ -o index_CV.log\n",
    "#\n",
    "# ----------------Modules------------------------- #\n",
    "module load bioinformatics/samtools\n",
    "#\n",
    "# ----------------Your Commands------------------- #\n",
    "#\n",
    "echo + `date` job $JOB_NAME started in $QUEUE with jobID=$JOB_ID on $HOSTNAME\n",
    "#\n",
    "for f in $(ls *_sorted.bam); \n",
    "do \n",
    "samtools index -b \"$f\" \"$f\".bai;\n",
    "done\n",
    "#\n",
    "echo = `date` job $JOB_NAME done"
   ]
  },
  {
   "cell_type": "code",
   "execution_count": null,
   "metadata": {},
   "outputs": [],
   "source": [
    "# /bin/sh\n",
    "# ----------------Parameters---------------------- #\n",
    "#$ -S /bin/sh\n",
    "#$ -q mThC.q\n",
    "#$ -l mres=8G,h_data=8G,h_vmem=8G\n",
    "#$ -cwd\n",
    "#$ -N cov_CV\n",
    "#$ -o cov_CV.log\n",
    "#\n",
    "# ----------------Modules------------------------- #\n",
    "module load bioinformatics/bedtools\n",
    "#\n",
    "# ----------------Your Commands------------------- #\n",
    "#\n",
    "echo + `date` job $JOB_NAME started in $QUEUE with jobID=$JOB_ID on $HOSTNAME\n",
    "#\n",
    "bedtools multicov -D -bams *.bam -bed GCF_002022765.2_C_virginica-3.0_genomic.bed\n",
    "#\n",
    "echo = `date` job $JOB_NAME done"
   ]
  },
  {
   "cell_type": "markdown",
   "metadata": {},
   "source": [
    "Oh wait I aligned them to the genbank version but tthe refseq is whats annotated... I think i need to remap to GCF (refseq)well it cant hurt...so jsut redo it now. then youll be dealing with the same things. "
   ]
  }
 ],
 "metadata": {
  "kernelspec": {
   "display_name": "Python 3",
   "language": "python",
   "name": "python3"
  },
  "language_info": {
   "codemirror_mode": {
    "name": "ipython",
    "version": 3
   },
   "file_extension": ".py",
   "mimetype": "text/x-python",
   "name": "python",
   "nbconvert_exporter": "python",
   "pygments_lexer": "ipython3",
   "version": "3.8.3"
  }
 },
 "nbformat": 4,
 "nbformat_minor": 4
}
